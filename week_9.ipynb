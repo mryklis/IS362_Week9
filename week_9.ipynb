{
 "cells": [
  {
   "cell_type": "markdown",
   "metadata": {},
   "source": [
    "### Connect to db and read into df"
   ]
  },
  {
   "cell_type": "markdown",
   "metadata": {},
   "source": [
    "import pandas and the pymsql module to connect to mysql db"
   ]
  },
  {
   "cell_type": "code",
   "execution_count": 1,
   "metadata": {
    "collapsed": true
   },
   "outputs": [],
   "source": [
    "import pandas as pd\n",
    "import pymysql"
   ]
  },
  {
   "cell_type": "markdown",
   "metadata": {},
   "source": [
    "connection string (user/password removed for this example)"
   ]
  },
  {
   "cell_type": "code",
   "execution_count": 2,
   "metadata": {
    "collapsed": true
   },
   "outputs": [],
   "source": [
    "db = pymysql.connect('localhost', '****', '****', 'chinook')"
   ]
  },
  {
   "cell_type": "markdown",
   "metadata": {},
   "source": [
    "In this sql statement I am selecting last name, first, track name, and album title. \n",
    "\n",
    "I am joining 5 tables. \n",
    "* invoice and customer \n",
    "* invoiceline and invoice\n",
    "* track and invoiceline\n",
    "* album and track\n",
    "\n",
    "Then I sort by last name, first, invoiceid\n"
   ]
  },
  {
   "cell_type": "code",
   "execution_count": 3,
   "metadata": {
    "collapsed": true
   },
   "outputs": [],
   "source": [
    "sqlStatement = 'SELECT customer.LastName, customer.FirstName, track.Name, album.Title ' \\\n",
    "               'FROM invoice ' \\\n",
    "               'left JOIN customer ON invoice.CustomerId = customer.customerId ' \\\n",
    "                'inner join invoiceline on invoice.invoiceid = invoiceline.InvoiceId ' \\\n",
    "               'left join track on invoiceline.TrackId = track.TrackId ' \\\n",
    "               'left join album on track.AlbumId = album.AlbumId ' \\\n",
    "               'order by lastname, FirstName, invoice.invoiceid' \\"
   ]
  },
  {
   "cell_type": "markdown",
   "metadata": {},
   "source": [
    "load into dataframe and display"
   ]
  },
  {
   "cell_type": "code",
   "execution_count": 4,
   "metadata": {
    "collapsed": false
   },
   "outputs": [
    {
     "name": "stdout",
     "output_type": "stream",
     "text": [
      "        LastName FirstName                                               Name  \\\n",
      "0        Almeida   Roberto                            Right Next Door to Hell   \n",
      "1        Almeida   Roberto                                   Fool In The Rain   \n",
      "2        Almeida   Roberto                                     In The Evening   \n",
      "3        Almeida   Roberto                                          Vai Valer   \n",
      "4        Almeida   Roberto                                     Revolta Olodum   \n",
      "5        Almeida   Roberto                             Nossa Gente (Avisa Là)   \n",
      "6        Almeida   Roberto                                           Mundaréu   \n",
      "7        Almeida   Roberto                                         On A Plain   \n",
      "8        Almeida   Roberto                                           In Bloom   \n",
      "9        Almeida   Roberto                               Scentless Apprentice   \n",
      "10       Almeida   Roberto                                              Intro   \n",
      "11       Almeida   Roberto                                    Home Sweet Home   \n",
      "12       Almeida   Roberto                                           Demorou!   \n",
      "13       Almeida   Roberto                                          Aos Leões   \n",
      "14       Almeida   Roberto                                              Dance   \n",
      "15       Almeida   Roberto                             Caso Você Queira Saber   \n",
      "16       Almeida   Roberto  Saudade Dos Aviões Da Panair (Conversando No Bar)   \n",
      "17       Almeida   Roberto                          Maracatu De Tiro Certeiro   \n",
      "18       Almeida   Roberto                          Banditismo Por Uma Questa   \n",
      "19       Almeida   Roberto                                      Amor De Muito   \n",
      "20       Almeida   Roberto                              Um Satélite Na Cabeça   \n",
      "21       Almeida   Roberto                                      Samba Do Lado   \n",
      "22       Almeida   Roberto                                       Mateus Enter   \n",
      "23       Almeida   Roberto                                     Meu Caro Amigo   \n",
      "24       Almeida   Roberto                                   Morena De Angola   \n",
      "25       Almeida   Roberto                                         Vai Passar   \n",
      "26       Almeida   Roberto                                    Refavela (Live)   \n",
      "27       Almeida   Roberto                                  Stir It Up (Live)   \n",
      "28       Almeida   Roberto                                 Shakes and Ladders   \n",
      "29       Almeida   Roberto                                     It's a Mistake   \n",
      "...          ...       ...                                                ...   \n",
      "2210  Zimmermann      Fynn                                           Juazeiro   \n",
      "2211  Zimmermann      Fynn                                   Meu Guarda-Chuva   \n",
      "2212  Zimmermann      Fynn                                            Nervosa   \n",
      "2213  Zimmermann      Fynn                                   Come Fly With Me   \n",
      "2214  Zimmermann      Fynn                                        Summer Love   \n",
      "2215  Zimmermann      Fynn                                  Walking After You   \n",
      "2216  Zimmermann      Fynn                                  Hey, Johnny Park!   \n",
      "2217  Zimmermann      Fynn                               Disenchanted Lullaby   \n",
      "2218  Zimmermann      Fynn                                       Over And Out   \n",
      "2219  Zimmermann      Fynn                                       Distractions   \n",
      "2220  Zimmermann      Fynn                                    Nothing to Hide   \n",
      "2221  Zimmermann      Fynn                                            Genesis   \n",
      "2222  Zimmermann      Fynn                                  A Day In the Life   \n",
      "2223  Zimmermann      Fynn                                Unfinished Business   \n",
      "2224  Zimmermann      Fynn                                      Exodus, Pt. 1   \n",
      "2225  Zimmermann      Fynn                                           Eu E Ela   \n",
      "2226  Zimmermann      Fynn                                 Amanhã Não Se Sabe   \n",
      "2227  Zimmermann      Fynn                                      Sonifera Ilha   \n",
      "2228  Zimmermann      Fynn                                     Laguna Sunrise   \n",
      "2229  Zimmermann      Fynn                                         Cornucopia   \n",
      "2230  Zimmermann      Fynn                                               Azul   \n",
      "2231  Zimmermann      Fynn                                        Flor De Lis   \n",
      "2232  Zimmermann      Fynn                                               Açai   \n",
      "2233  Zimmermann      Fynn                                         Nem Um Dia   \n",
      "2234  Zimmermann      Fynn                                         Ozone Baby   \n",
      "2235  Zimmermann      Fynn                                 We're Gonna Groove   \n",
      "2236  Zimmermann      Fynn                                Going To California   \n",
      "2237  Zimmermann      Fynn                         Since I've Been Loving You   \n",
      "2238  Zimmermann      Fynn                                    Nothin' To Lose   \n",
      "2239  Zimmermann      Fynn                                   I Still Love You   \n",
      "\n",
      "                                           Title  \n",
      "0                            Use Your Illusion I  \n",
      "1                        In Through The Out Door  \n",
      "2                        In Through The Out Door  \n",
      "3                                   Acústico MTV  \n",
      "4                                         Olodum  \n",
      "5                                         Olodum  \n",
      "6                                   Compositores  \n",
      "7                                      Nevermind  \n",
      "8                                      Nevermind  \n",
      "9     From The Muddy Banks Of The Wishkah [Live]  \n",
      "10    From The Muddy Banks Of The Wishkah [Live]  \n",
      "11                     Motley Crue Greatest Hits  \n",
      "12                                    Demorou...  \n",
      "13                                    Demorou...  \n",
      "14                                 Ace Of Spades  \n",
      "15                                         Minas  \n",
      "16                                         Minas  \n",
      "17                               Da Lama Ao Caos  \n",
      "18                               Da Lama Ao Caos  \n",
      "19                                Afrociberdelia  \n",
      "20                                Afrociberdelia  \n",
      "21                                Afrociberdelia  \n",
      "22                                Afrociberdelia  \n",
      "23                                Minha Historia  \n",
      "24                                Minha Historia  \n",
      "25                                Minha Historia  \n",
      "26                  Quanta Gente Veio Ver (Live)  \n",
      "27                  Quanta Gente Veio Ver (Live)  \n",
      "28                       The Best Of Men At Work  \n",
      "29                       The Best Of Men At Work  \n",
      "...                                          ...  \n",
      "2210                    As Canções de Eu Tu Eles  \n",
      "2211                                Roda De Funk  \n",
      "2212                                Roda De Funk  \n",
      "2213  My Way: The Best Of Frank Sinatra [Disc 1]  \n",
      "2214  My Way: The Best Of Frank Sinatra [Disc 1]  \n",
      "2215                    The Colour And The Shape  \n",
      "2216                    The Colour And The Shape  \n",
      "2217                                  One By One  \n",
      "2218                      In Your Honor [Disc 2]  \n",
      "2219                            Heroes, Season 1  \n",
      "2220                            Heroes, Season 1  \n",
      "2221                            Heroes, Season 1  \n",
      "2222              Battlestar Galactica, Season 3  \n",
      "2223              Battlestar Galactica, Season 3  \n",
      "2224              Battlestar Galactica, Season 3  \n",
      "2225                                 Volume Dois  \n",
      "2226                                 Volume Dois  \n",
      "2227                                 Volume Dois  \n",
      "2228             Black Sabbath Vol. 4 (Remaster)  \n",
      "2229             Black Sabbath Vol. 4 (Remaster)  \n",
      "2230                     Djavan Ao Vivo - Vol. 1  \n",
      "2231                     Djavan Ao Vivo - Vol. 1  \n",
      "2232                     Djavan Ao Vivo - Vol. 1  \n",
      "2233                     Djavan Ao Vivo - Vol. 1  \n",
      "2234                                        Coda  \n",
      "2235                                        Coda  \n",
      "2236                BBC Sessions [Disc 2] [Live]  \n",
      "2237                BBC Sessions [Disc 2] [Live]  \n",
      "2238                            Unplugged [Live]  \n",
      "2239                            Unplugged [Live]  \n",
      "\n",
      "[2240 rows x 4 columns]\n"
     ]
    }
   ],
   "source": [
    "df = pd.read_sql_query(sql=sqlStatement, con=db)\n",
    "print(df)"
   ]
  }
 ],
 "metadata": {
  "anaconda-cloud": {},
  "kernelspec": {
   "display_name": "Python [conda root]",
   "language": "python",
   "name": "conda-root-py"
  },
  "language_info": {
   "codemirror_mode": {
    "name": "ipython",
    "version": 3
   },
   "file_extension": ".py",
   "mimetype": "text/x-python",
   "name": "python",
   "nbconvert_exporter": "python",
   "pygments_lexer": "ipython3",
   "version": "3.5.2"
  }
 },
 "nbformat": 4,
 "nbformat_minor": 1
}
